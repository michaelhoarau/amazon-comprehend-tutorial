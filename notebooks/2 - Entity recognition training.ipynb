{
 "cells": [
  {
   "cell_type": "markdown",
   "metadata": {},
   "source": [
    "# Custom entity recognition with Comprehend\n",
    "---\n",
    "*Step 2: launch a custom entity recognition training job*\n",
    "\n",
    "This series of notebook is a walkthrough on how to leverage Amazon Comprehend to recognize customized entities from documents. More details about the training process can be found here: https://docs.aws.amazon.com/comprehend/latest/dg/training-recognizers.html"
   ]
  },
  {
   "cell_type": "markdown",
   "metadata": {},
   "source": [
    "## Initialization\n",
    "---"
   ]
  },
  {
   "cell_type": "code",
   "execution_count": null,
   "metadata": {},
   "outputs": [],
   "source": [
    "%%sh\n",
    "pip -q install --upgrade pip\n",
    "pip -q install sagemaker awscli boto3 --upgrade"
   ]
  },
  {
   "cell_type": "code",
   "execution_count": null,
   "metadata": {},
   "outputs": [],
   "source": [
    "from IPython.core.display import HTML\n",
    "HTML(\"<script>Jupyter.notebook.kernel.restart()</script>\")"
   ]
  },
  {
   "cell_type": "code",
   "execution_count": null,
   "metadata": {},
   "outputs": [],
   "source": [
    "import os\n",
    "import pandas as pd\n",
    "import numpy as np\n",
    "import boto3\n",
    "import botocore\n",
    "import sagemaker\n",
    "import sys\n",
    "import datetime\n",
    "import time\n",
    "\n",
    "RAW_DATA = '../data/raw'\n",
    "DATA = '../data/interim'\n",
    "PROCESSED_DATA = '../data/processed'\n",
    "\n",
    "# Specify S3 bucket and prefix that you want to use for the model data\n",
    "# Feel free to specify a different bucket here if you wish.\n",
    "sagemaker_session = sagemaker.Session()\n",
    "bucket = sagemaker_session.default_bucket()\n",
    "prefix = 'comprehend_workshop'\n",
    "execution_role = sagemaker.get_execution_role()\n",
    "comprehend_client = boto3.client('comprehend')"
   ]
  },
  {
   "cell_type": "code",
   "execution_count": null,
   "metadata": {},
   "outputs": [],
   "source": [
    "# Check if the bucket exists\n",
    "try:\n",
    "    boto3.Session().client('s3').head_bucket(Bucket=bucket)\n",
    "except botocore.exceptions.ParamValidationError as e:\n",
    "    print('Hey! You either forgot to specify your S3 bucket'\n",
    "          ' or you gave your bucket an invalid name!')\n",
    "except botocore.exceptions.ClientError as e:\n",
    "    if e.response['Error']['Code'] == '403':\n",
    "        print(\"Hey! You don't have permission to access the bucket, {}.\".format(bucket))\n",
    "    elif e.response['Error']['Code'] == '404':\n",
    "        print(\"Hey! Your bucket, {}, doesn't exist!\".format(bucket))\n",
    "    else:\n",
    "        raise\n",
    "else:\n",
    "    print('Training input/output will be stored in: s3://{}/{}'.format(bucket, prefix))"
   ]
  },
  {
   "cell_type": "markdown",
   "metadata": {},
   "source": [
    "## Training\n",
    "---"
   ]
  },
  {
   "cell_type": "markdown",
   "metadata": {},
   "source": [
    "Let's prepare the custom entity training job request file:"
   ]
  },
  {
   "cell_type": "code",
   "execution_count": null,
   "metadata": {},
   "outputs": [],
   "source": [
    "s3_train_documents = 's3://{}/{}/documents/'.format(bucket, prefix)\n",
    "s3_train_annotations = 's3://{}/{}/annotations/'.format(bucket, prefix)\n",
    "\n",
    "custom_entity_request = {\n",
    "    \"Documents\": { \"S3Uri\": s3_train_documents },\n",
    "    \"Annotations\": { \"S3Uri\": s3_train_annotations },\n",
    "    \"EntityTypes\": [\n",
    "        { \"Type\": \"ANATOMY\" },\n",
    "        { \"Type\": \"CHEMICALS\" },\n",
    "        { \"Type\": \"DISORDERS\" },\n",
    "        { \"Type\": \"LIVING_BEING\" },\n",
    "        { \"Type\": \"PROCEDURE\" },\n",
    "        { \"Type\": \"PHYSIOLOGY\" },\n",
    "        { \"Type\": \"DEVICES\" },\n",
    "        { \"Type\": \"OBJECT\" }\n",
    "    ]\n",
    "}"
   ]
  },
  {
   "cell_type": "markdown",
   "metadata": {},
   "source": [
    "Launch the training: note that the language code is mandatory but only accepts `en` as a value. However, for custom entity training, the actual language used will, of course, be the one of the dataset:"
   ]
  },
  {
   "cell_type": "code",
   "execution_count": null,
   "metadata": {},
   "outputs": [],
   "source": [
    "unique_id = str(datetime.datetime.now().strftime('%s'))\n",
    "create_custom_entity_response = comprehend_client.create_entity_recognizer(\n",
    "    RecognizerName = 'french-healthcare-entities-' + unique_id, \n",
    "    DataAccessRoleArn = execution_role,\n",
    "    InputDataConfig = custom_entity_request,\n",
    "    LanguageCode = 'en'\n",
    ")"
   ]
  },
  {
   "cell_type": "markdown",
   "metadata": {},
   "source": [
    "Let's monitor this job while it's training:"
   ]
  },
  {
   "cell_type": "code",
   "execution_count": null,
   "metadata": {},
   "outputs": [],
   "source": [
    "job_arn = create_custom_entity_response['EntityRecognizerArn']\n",
    "\n",
    "max_time = time.time() + 3*60*60\n",
    "while time.time() < max_time:\n",
    "    custom_recognizer_description = comprehend_client.describe_entity_recognizer(\n",
    "        EntityRecognizerArn=job_arn\n",
    "    )\n",
    "    status = custom_recognizer_description['EntityRecognizerProperties']['Status']\n",
    "    print('Custom entity recognizer: {}'.format(status))\n",
    "    \n",
    "    if status == 'TRAINED' or status == 'IN_ERROR':\n",
    "        break\n",
    "        \n",
    "    time.sleep(60)"
   ]
  },
  {
   "cell_type": "code",
   "execution_count": null,
   "metadata": {},
   "outputs": [],
   "source": [
    "custom_recognizer_description"
   ]
  }
 ],
 "metadata": {
  "kernelspec": {
   "display_name": "conda_mxnet_p36",
   "language": "python",
   "name": "conda_mxnet_p36"
  },
  "language_info": {
   "codemirror_mode": {
    "name": "ipython",
    "version": 3
   },
   "file_extension": ".py",
   "mimetype": "text/x-python",
   "name": "python",
   "nbconvert_exporter": "python",
   "pygments_lexer": "ipython3",
   "version": "3.6.10"
  }
 },
 "nbformat": 4,
 "nbformat_minor": 4
}
